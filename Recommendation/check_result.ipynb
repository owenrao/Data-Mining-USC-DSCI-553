{
 "cells": [
  {
   "cell_type": "code",
   "execution_count": 1,
   "metadata": {},
   "outputs": [],
   "source": [
    "import csv\n",
    "from math import sqrt"
   ]
  },
  {
   "cell_type": "code",
   "execution_count": 2,
   "metadata": {},
   "outputs": [],
   "source": [
    "gt = {}\n",
    "with open(\"data/yelp_val.csv\") as file:\n",
    "    reader = csv.reader(file)\n",
    "    count = 0\n",
    "    for line in reader:\n",
    "        if count==0:\n",
    "            count += 1\n",
    "            continue\n",
    "        pair = tuple(sorted(line[:2]))\n",
    "        gt[pair] = float(line[2])"
   ]
  },
  {
   "cell_type": "code",
   "execution_count": 9,
   "metadata": {},
   "outputs": [],
   "source": [
    "myresult = {}\n",
    "with open(\"model_based/result.csv\") as file:\n",
    "    reader = csv.reader(file)\n",
    "    count = 0\n",
    "    for line in reader:\n",
    "        if count==0:\n",
    "            count += 1\n",
    "            continue\n",
    "        pair = tuple(sorted(line[:2]))\n",
    "        myresult[pair] = float(line[2])"
   ]
  },
  {
   "cell_type": "code",
   "execution_count": 10,
   "metadata": {},
   "outputs": [],
   "source": [
    "n = len(myresult)\n",
    "rmse = 0\n",
    "for pair,r in myresult.items():\n",
    "    rmse += (r-gt[pair])**2\n",
    "rmse = sqrt(rmse/n)"
   ]
  },
  {
   "cell_type": "code",
   "execution_count": 11,
   "metadata": {},
   "outputs": [
    {
     "data": {
      "text/plain": [
       "0.9783906658996268"
      ]
     },
     "execution_count": 11,
     "metadata": {},
     "output_type": "execute_result"
    }
   ],
   "source": [
    "rmse"
   ]
  },
  {
   "cell_type": "code",
   "execution_count": null,
   "metadata": {},
   "outputs": [],
   "source": []
  }
 ],
 "metadata": {
  "kernelspec": {
   "display_name": "Python 3.7.13 ('newenv')",
   "language": "python",
   "name": "python3"
  },
  "language_info": {
   "codemirror_mode": {
    "name": "ipython",
    "version": 3
   },
   "file_extension": ".py",
   "mimetype": "text/x-python",
   "name": "python",
   "nbconvert_exporter": "python",
   "pygments_lexer": "ipython3",
   "version": "3.7.13"
  },
  "orig_nbformat": 4,
  "vscode": {
   "interpreter": {
    "hash": "87ef2c4983d124858e7bc65373e634017d4d0da0a01665b9091a743c5bc24cc8"
   }
  }
 },
 "nbformat": 4,
 "nbformat_minor": 2
}
