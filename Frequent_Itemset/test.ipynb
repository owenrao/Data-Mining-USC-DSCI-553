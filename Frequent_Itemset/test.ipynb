{
 "cells": [
  {
   "cell_type": "code",
   "execution_count": 2,
   "metadata": {},
   "outputs": [],
   "source": [
    "from collections import Counter\n",
    "from itertools import combinations\n",
    "from math import factorial,ceil"
   ]
  },
  {
   "cell_type": "markdown",
   "metadata": {},
   "source": [
    "## SON"
   ]
  },
  {
   "cell_type": "code",
   "execution_count": 3,
   "metadata": {},
   "outputs": [
    {
     "data": {
      "text/plain": [
       "'0037000337270'"
      ]
     },
     "execution_count": 3,
     "metadata": {},
     "output_type": "execute_result"
    }
   ],
   "source": [
    "a = \"37000337270\"\n",
    "(13-len(a))*\"0\"+a"
   ]
  },
  {
   "cell_type": "code",
   "execution_count": 143,
   "metadata": {},
   "outputs": [],
   "source": [
    "l = [('100', {'2', '13', '12', '1', '16'}), ('98', {'10', '18', '5', '3', '13', '12', '1', '8', '9', '16', '11', '19'}), ('101', {'13', '2', '7', '4', '12', '1', '6', '16', '15'}), ('102', {'3'\n",
    ", '13', '4', '12', '1', '8', '6', '19'}), ('99', {'18', '17', '3', '13', '2', '7', '4', '8', '9', '16', '11', '15'}), ('97', {'10', '18', '14', '5', '17', '3', '2', '7', '4', '8', '9', '11',\n",
    " '15', '19'}), ('103', {'4', '8', '3', '13'}), ('105', {'12', '3', '13'}), ('104', {'8'}), ('108', {'12', '13'}), ('106', {'12', '13'}), ('107', {'12', '13'})]"
   ]
  },
  {
   "cell_type": "code",
   "execution_count": 176,
   "metadata": {},
   "outputs": [],
   "source": [
    "cb = lambda n,k: factorial(n)/(factorial(k)*factorial(n - k))"
   ]
  },
  {
   "cell_type": "code",
   "execution_count": 68,
   "metadata": {},
   "outputs": [],
   "source": [
    "def multi_hash(part):\n",
    "    #pass 1\n",
    "    item_counter = Counter([ele for tup in part for ele in tup[1]])\n",
    "    item_size = len(item_counter)\n",
    "    pair_size = int(item_size*(item_size-1)/2)\n",
    "    bucket_num = int(pair_size/3)+1\n",
    "    hash_1 = lambda x: hash(max(x)+min(x))%bucket_num\n",
    "    hash_2 = lambda x: hash(min(x)+max(x))%bucket_num\n",
    "    bit_map_1 = {i:0 for i in range(bucket_num)}\n",
    "    bit_map_2 = {i:0 for i in range(bucket_num)}\n",
    "    for tup in part:\n",
    "        pairs = combinations(tup[1],2)\n",
    "        for pair in pairs:\n",
    "            bit_map_1[hash_1(pair)] += 1\n",
    "            bit_map_2[hash_2(pair)] += 1\n",
    "\n",
    "    print(bit_map_1)\n",
    "    print(bit_map_2)\n",
    "    bit_map_1 = {key:1 if value>= thres else 0 for key,value in bit_map_1.items()}\n",
    "    bit_map_2 = {key:1 if value>= thres else 0 for key,value in bit_map_2.items()}\n",
    "\n",
    "\n",
    "    #pass 2\n",
    "    table = [[{i,j},0] for i,j in combinations(item_counter.keys(),2)\\\n",
    "            if (item_counter[i]>=thres) and (item_counter[j]>=thres)\\\n",
    "            and bit_map_1[hash_1({i,j})]==1\\\n",
    "            and bit_map_2[hash_2({i,j})]==1]\n",
    "    for tup in part:\n",
    "        temp = tup[1]\n",
    "        for row in table:\n",
    "            i,j = row[0]\n",
    "            if i in temp and j in temp:\n",
    "                row[1] += 1\n",
    "    return [row[0] for row in table if row[1]>=thres]"
   ]
  },
  {
   "cell_type": "code",
   "execution_count": 167,
   "metadata": {},
   "outputs": [],
   "source": [
    "def apriori(part):\n",
    "    freq_itsets = []\n",
    "    baskets = [tup[1] for tup in part]\n",
    "    N = max([len(x) for x in baskets])\n",
    "    item_counter = Counter([ele for tup in baskets for ele in tup])\n",
    "    prev_freq_itsets = [{ele} for ele,value in item_counter.items() if value>=thres]\n",
    "    freq_itsets += prev_freq_itsets\n",
    "    for n in range(2,N+1):\n",
    "        # Construct\n",
    "        item_counter = []\n",
    "        for i,j in combinations(prev_freq_itsets,2):\n",
    "            if len(i&j)==(n-2):\n",
    "                row = [i.union(j),0]\n",
    "                if row not in item_counter:\n",
    "                    item_counter.append(row)\n",
    "        print(len(item_counter))\n",
    "        # Count\n",
    "        for row in item_counter:\n",
    "            itemset = row[0]\n",
    "            for basket in baskets:\n",
    "                if itemset.issubset(basket):\n",
    "                    row[1] += 1\n",
    "        prev_freq_itsets = [row[0] for row in item_counter if row[1]>=thres]\n",
    "        freq_itsets += prev_freq_itsets\n",
    "        if prev_freq_itsets == []:\n",
    "            break\n",
    "    return freq_itsets\n",
    "    "
   ]
  },
  {
   "cell_type": "code",
   "execution_count": 155,
   "metadata": {},
   "outputs": [],
   "source": [
    "def gen_bit_maps(baskets, bucket_num, hash_1, hash_2, n):\n",
    "    bit_map_1 = {i:0 for i in range(bucket_num)}\n",
    "    bit_map_2 = {i:0 for i in range(bucket_num)}\n",
    "    for basket in baskets:\n",
    "        combs = combinations(basket,n)\n",
    "        for itset in combs:\n",
    "            bit_map_1[hash_1(itset)] += 1\n",
    "            bit_map_2[hash_2(itset)] += 1\n",
    "    bit_map_1 = {key:1 if value>= thres else 0 for key,value in bit_map_1.items()}\n",
    "    bit_map_2 = {key:1 if value>= thres else 0 for key,value in bit_map_2.items()}\n",
    "    return bit_map_1, bit_map_2"
   ]
  },
  {
   "cell_type": "code",
   "execution_count": null,
   "metadata": {},
   "outputs": [],
   "source": [
    "435 989 134 6"
   ]
  },
  {
   "cell_type": "code",
   "execution_count": 172,
   "metadata": {},
   "outputs": [],
   "source": [
    "def multi_hash(part):\n",
    "    freq_itsets = []\n",
    "    baskets = [tup[1] for tup in part]\n",
    "    N = max([len(x) for x in baskets])\n",
    "    L = len(baskets)\n",
    "    item_counter = Counter([ele for tup in baskets for ele in tup])\n",
    "    prev_freq_itsets = [{ele} for ele,value in item_counter.items() if value>=thres]\n",
    "    freq_itsets += prev_freq_itsets\n",
    "    bucket_num = int(2/3*L*cb(N,2)/thres)+2\n",
    "    hash_1 = lambda x: 2*hash(\"\".join(set(x)))%bucket_num\n",
    "    hash_2 = lambda x: hash(\"\".join(set(x)))%bucket_num\n",
    "    bit_map_1, bit_map_2 = gen_bit_maps(baskets, bucket_num, hash_1, hash_2, 2)\n",
    "    for n in range(2,N+1):\n",
    "        # Construct\n",
    "        item_counter = []\n",
    "        for i,j in combinations(prev_freq_itsets,2):\n",
    "            if len(i&j)==(n-2):\n",
    "                temp = i.union(j)\n",
    "                row = [temp,0]\n",
    "                if row not in item_counter and bit_map_1[hash_1(temp)] and bit_map_2[hash_2(temp)]:\n",
    "                    item_counter.append(row)\n",
    "        print(len(item_counter))\n",
    "        # Count\n",
    "        for row in item_counter:\n",
    "            itemset = row[0]\n",
    "            for basket in baskets:\n",
    "                if itemset.issubset(basket):\n",
    "                    row[1] += 1\n",
    "        prev_freq_itsets = [row[0] for row in item_counter if row[1]>=thres]\n",
    "        freq_itsets += prev_freq_itsets\n",
    "        if prev_freq_itsets == []:\n",
    "            break\n",
    "        # BitMap\n",
    "        bucket_num = int(cb(N,n+1)/2)+2\n",
    "        bit_map_1, bit_map_2 = gen_bit_maps(baskets, bucket_num, hash_1, hash_2, n+1)\n",
    "    return freq_itsets\n",
    "    "
   ]
  },
  {
   "cell_type": "code",
   "execution_count": 168,
   "metadata": {},
   "outputs": [
    {
     "name": "stdout",
     "output_type": "stream",
     "text": [
      "1\n",
      "0\n"
     ]
    },
    {
     "data": {
      "text/plain": [
       "[{'12'}, {'13'}, {'12', '13'}]"
      ]
     },
     "execution_count": 168,
     "metadata": {},
     "output_type": "execute_result"
    }
   ],
   "source": [
    "apriori(l)"
   ]
  },
  {
   "cell_type": "code",
   "execution_count": 177,
   "metadata": {},
   "outputs": [
    {
     "name": "stdout",
     "output_type": "stream",
     "text": [
      "1\n",
      "0\n"
     ]
    },
    {
     "data": {
      "text/plain": [
       "[{'12'}, {'13'}, {'12', '13'}]"
      ]
     },
     "execution_count": 177,
     "metadata": {},
     "output_type": "execute_result"
    }
   ],
   "source": [
    "multi_hash(l)"
   ]
  },
  {
   "cell_type": "code",
   "execution_count": 70,
   "metadata": {},
   "outputs": [],
   "source": [
    "def multi_hash(part):\n",
    "    #pass 1\n",
    "    item_counter = Counter([ele for tup in part for ele in tup[1]])\n",
    "    item_size = len(item_counter)\n",
    "    pair_size = int(item_size*(item_size-1)/2)\n",
    "    bucket_num = int(pair_size/3)+1\n",
    "    hash_1 = lambda x: hash(max(x)+min(x))%bucket_num\n",
    "    hash_2 = lambda x: hash(min(x)+max(x))%bucket_num\n",
    "    bit_map_1 = Counter([hash_1(pair) for tup in part for pair in combinations(tup[1],2)])\n",
    "    bit_map_2 = Counter([hash_2(pair) for tup in part for pair in combinations(tup[1],2)])\n",
    "    print(bit_map_1)\n",
    "    print(bit_map_2)\n",
    "    bit_map_1 = {key:1 if value>= thres else 0 for key,value in bit_map_1.items()}\n",
    "    bit_map_2 = {key:1 if value>= thres else 0 for key,value in bit_map_2.items()}\n",
    "\n",
    "\n",
    "    #pass 2\n",
    "    table = [[{i,j},0] for i,j in combinations(item_counter.keys(),2)\\\n",
    "            if (item_counter[i]>=thres) and (item_counter[j]>=thres)\\\n",
    "            and bit_map_1[hash_1({i,j})]==1\\\n",
    "            and bit_map_2[hash_2({i,j})]==1]\n",
    "    for tup in part:\n",
    "        temp = tup[1]\n",
    "        for row in table:\n",
    "            i,j = row[0]\n",
    "            if i in temp and j in temp:\n",
    "                row[1] += 1\n",
    "    return [row[0] for row in table if row[1]>=thres]"
   ]
  },
  {
   "cell_type": "code",
   "execution_count": 71,
   "metadata": {},
   "outputs": [
    {
     "name": "stdout",
     "output_type": "stream",
     "text": [
      "Counter({40: 17, 10: 12, 51: 12, 20: 11, 24: 11, 0: 10, 3: 10, 17: 10, 49: 10, 29: 9, 13: 9, 23: 9, 22: 9, 21: 8, 43: 8, 55: 8, 25: 8, 19: 7, 15: 7, 44: 7, 12: 7, 31: 6, 14: 6, 57: 6, 11: 6, 26: 6, 4: 5, 50: 5, 34: 5, 48: 5, 56: 5, 45: 5, 28: 4, 33: 4, 2: 4, 9: 4, 41: 3, 16: 3, 54: 3, 36: 2, 47: 2, 6: 2, 37: 2, 35: 2, 46: 2, 27: 2, 52: 2, 42: 2, 53: 2, 1: 1, 8: 1, 5: 1, 32: 1, 39: 1})\n",
      "Counter({49: 16, 46: 15, 0: 15, 33: 11, 30: 11, 20: 11, 2: 9, 35: 9, 54: 9, 27: 9, 3: 9, 56: 8, 44: 8, 31: 8, 42: 8, 34: 8, 24: 7, 9: 7, 51: 7, 37: 6, 5: 6, 16: 6, 41: 6, 38: 6, 19: 6, 47: 6, 1: 6, 23: 5, 28: 5, 45: 5, 6: 4, 39: 4, 14: 4, 52: 4, 36: 4, 4: 4, 26: 4, 55: 4, 12: 3, 32: 3, 53: 2, 40: 2, 15: 2, 18: 2, 25: 2, 48: 2, 13: 2, 10: 2, 11: 2, 7: 1, 17: 1, 43: 1, 22: 1, 21: 1})\n"
     ]
    },
    {
     "data": {
      "text/plain": [
       "[{'12', '13'}, {'13', '3'}, {'3', '8'}]"
      ]
     },
     "execution_count": 71,
     "metadata": {},
     "output_type": "execute_result"
    }
   ],
   "source": [
    "\n",
    "multi_hash(l)"
   ]
  },
  {
   "cell_type": "code",
   "execution_count": 6,
   "metadata": {},
   "outputs": [
    {
     "data": {
      "text/plain": [
       "{'12': 0, '23f': 1}"
      ]
     },
     "execution_count": 6,
     "metadata": {},
     "output_type": "execute_result"
    }
   ],
   "source": [
    "{key:1 if value>= thres else 0 for key,value in bit_map_1.items()}"
   ]
  },
  {
   "cell_type": "code",
   "execution_count": 4,
   "metadata": {},
   "outputs": [
    {
     "data": {
      "text/plain": [
       "Counter({'12': 2, '124': 2, '15': 2, '11': 2, '126': 1})"
      ]
     },
     "execution_count": 4,
     "metadata": {},
     "output_type": "execute_result"
    }
   ],
   "source": [
    "Counter([ele for pair in l for ele in pair[1]])"
   ]
  },
  {
   "cell_type": "code",
   "execution_count": 44,
   "metadata": {},
   "outputs": [
    {
     "data": {
      "text/plain": [
       "15"
      ]
     },
     "execution_count": 44,
     "metadata": {},
     "output_type": "execute_result"
    }
   ],
   "source": [
    "s = {'12','15','124','14','125','235'}\n",
    "len(list(combinations(s,2)))"
   ]
  },
  {
   "cell_type": "code",
   "execution_count": 8,
   "metadata": {},
   "outputs": [
    {
     "data": {
      "text/plain": [
       "1308689722708787155"
      ]
     },
     "execution_count": 8,
     "metadata": {},
     "output_type": "execute_result"
    }
   ],
   "source": [
    "hash(min({'asdfwqefq2','f423f-g'})+max({'asdfwqefq2','f423f-g'}))"
   ]
  },
  {
   "cell_type": "code",
   "execution_count": 9,
   "metadata": {},
   "outputs": [
    {
     "data": {
      "text/plain": [
       "-7768537218748576398"
      ]
     },
     "execution_count": 9,
     "metadata": {},
     "output_type": "execute_result"
    }
   ],
   "source": [
    "hash(max({'asdfwqefq2','f423f-g'})+min({'asdfwqefq2','f423f-g'}))"
   ]
  },
  {
   "cell_type": "code",
   "execution_count": 1,
   "metadata": {},
   "outputs": [
    {
     "data": {
      "text/plain": [
       "-7650997984214878628"
      ]
     },
     "execution_count": 1,
     "metadata": {},
     "output_type": "execute_result"
    }
   ],
   "source": [
    "hash((\"asdf\",\"45h\"))"
   ]
  },
  {
   "cell_type": "code",
   "execution_count": 4,
   "metadata": {},
   "outputs": [
    {
     "data": {
      "text/plain": [
       "{'\"4710011401128\"', '\"4710011401135\"', '\"4710011405133\"', '\"4710011406123\"'}"
      ]
     },
     "execution_count": 4,
     "metadata": {},
     "output_type": "execute_result"
    }
   ],
   "source": [
    "set(('\"4710011405133\"', '\"4710011406123\"', '\"4710011401135\"', '\"4710011401128\"'))"
   ]
  },
  {
   "cell_type": "code",
   "execution_count": 8,
   "metadata": {},
   "outputs": [
    {
     "data": {
      "text/plain": [
       "['\"4710011401128\"', '\"4710011401135\"', '\"4710011406123\"', '\"4710011409056\"']"
      ]
     },
     "execution_count": 8,
     "metadata": {},
     "output_type": "execute_result"
    }
   ],
   "source": [
    "sorted(['\"4710011406123\"', '\"4710011409056\"', '\"4710011401135\"', '\"4710011401128\"'])"
   ]
  },
  {
   "cell_type": "code",
   "execution_count": 8,
   "metadata": {},
   "outputs": [
    {
     "name": "stdout",
     "output_type": "stream",
     "text": [
      "('12', '124')\n",
      "1\n",
      "9\n",
      "('12', '15')\n",
      "1\n",
      "1\n",
      "('124', '15')\n",
      "1\n",
      "1\n",
      "('12', '124')\n",
      "1\n",
      "9\n",
      "('12', '11')\n",
      "1\n",
      "7\n",
      "('124', '11')\n",
      "1\n",
      "7\n",
      "('11', '126')\n",
      "1\n",
      "6\n",
      "('11', '15')\n",
      "1\n",
      "1\n",
      "('126', '15')\n",
      "0\n",
      "1\n"
     ]
    }
   ],
   "source": [
    "for tup in l:\n",
    "    pairs = combinations(tup[1],2)\n",
    "    for pair in pairs:\n",
    "        print(pair)\n",
    "        print(hash(pair[0])%3)\n",
    "        print(hash(pair[1])%10)"
   ]
  },
  {
   "cell_type": "markdown",
   "metadata": {},
   "source": [
    "## Preprocess"
   ]
  },
  {
   "cell_type": "code",
   "execution_count": 4,
   "metadata": {},
   "outputs": [
    {
     "data": {
      "text/plain": [
       "False"
      ]
     },
     "execution_count": 4,
     "metadata": {},
     "output_type": "execute_result"
    }
   ],
   "source": [
    "{1,2,4}.issubset({1,2,3})"
   ]
  },
  {
   "cell_type": "markdown",
   "metadata": {},
   "source": []
  }
 ],
 "metadata": {
  "kernelspec": {
   "display_name": "Python 3.10.4 ('DS558')",
   "language": "python",
   "name": "python3"
  },
  "language_info": {
   "codemirror_mode": {
    "name": "ipython",
    "version": 3
   },
   "file_extension": ".py",
   "mimetype": "text/x-python",
   "name": "python",
   "nbconvert_exporter": "python",
   "pygments_lexer": "ipython3",
   "version": "3.10.4"
  },
  "orig_nbformat": 4,
  "vscode": {
   "interpreter": {
    "hash": "7d2ff20c00d4ac93ff3e3c3c2246f9d6a04344282adafe22c7a286cd6fb7db25"
   }
  }
 },
 "nbformat": 4,
 "nbformat_minor": 2
}
